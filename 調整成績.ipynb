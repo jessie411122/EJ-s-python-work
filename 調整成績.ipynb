{
 "cells": [
  {
   "cell_type": "code",
   "execution_count": 1,
   "metadata": {},
   "outputs": [],
   "source": [
    "%matplotlib inline\n",
    "import numpy as np\n",
    "import matplotlib.pyplot as plt\n",
    "import pandas as pd"
   ]
  },
  {
   "cell_type": "code",
   "execution_count": 7,
   "metadata": {},
   "outputs": [],
   "source": [
    "grades=[60,20,78,35,89,97,22,20,83,66,90]"
   ]
  },
  {
   "cell_type": "code",
   "execution_count": 11,
   "metadata": {},
   "outputs": [
    {
     "name": "stdout",
     "output_type": "stream",
     "text": [
      "成績:89.5\n",
      "成績:56.7\n",
      "成績:100.3\n",
      "成績:71.2\n",
      "成績:106.3\n",
      "成績:110.5\n",
      "成績:58.9\n",
      "成績:56.7\n",
      "成績:103.1\n",
      "成績:93.2\n",
      "成績:106.9\n"
     ]
    }
   ],
   "source": [
    "new_grades=[]\n",
    "\n",
    "for g in grades:\n",
    "    new_g=np.sqrt(g)*10+12\n",
    "    print(f\"成績:{new_g:.1f}\")\n"
   ]
  },
  {
   "cell_type": "code",
   "execution_count": null,
   "metadata": {},
   "outputs": [],
   "source": [
    "x=11\n",
    "y=\"成績\"\n"
   ]
  },
  {
   "cell_type": "code",
   "execution_count": null,
   "metadata": {},
   "outputs": [],
   "source": []
  }
 ],
 "metadata": {
  "kernelspec": {
   "display_name": "Python 3",
   "language": "python",
   "name": "python3"
  },
  "language_info": {
   "codemirror_mode": {
    "name": "ipython",
    "version": 3
   },
   "file_extension": ".py",
   "mimetype": "text/x-python",
   "name": "python",
   "nbconvert_exporter": "python",
   "pygments_lexer": "ipython3",
   "version": "3.7.3"
  }
 },
 "nbformat": 4,
 "nbformat_minor": 2
}
