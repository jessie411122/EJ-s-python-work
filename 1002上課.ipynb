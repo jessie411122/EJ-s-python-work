{
 "cells": [
  {
   "cell_type": "code",
   "execution_count": 1,
   "metadata": {},
   "outputs": [],
   "source": [
    "%matplotlib inline\n",
    "\n",
    "import numpy as np\n",
    "import matplotlib.pyplot as plt\n",
    "import pandas as pd"
   ]
  },
  {
   "cell_type": "code",
   "execution_count": 2,
   "metadata": {},
   "outputs": [],
   "source": [
    "from numpy.random import randint"
   ]
  },
  {
   "cell_type": "code",
   "execution_count": 3,
   "metadata": {},
   "outputs": [
    {
     "name": "stdout",
     "output_type": "stream",
     "text": [
      "6,2,1,6,1,3,1,8,6,1,"
     ]
    }
   ],
   "source": [
    "for i in range(10):\n",
    "    print(randint(1,10),end=',')"
   ]
  },
  {
   "cell_type": "code",
   "execution_count": 4,
   "metadata": {},
   "outputs": [],
   "source": [
    "words='''\n",
    "我\n",
    "我的\n",
    "妳\n",
    "妳的\n",
    "心\n",
    "溫柔\n",
    "日子\n",
    "雨\n",
    "風\n",
    "天空\n",
    "雲\n",
    "等待\n",
    "哭泣\n",
    "戀愛\n",
    "相遇\n",
    "分離\n",
    "忘記\n",
    "心醉\n",
    "驀然\n",
    "吹過\n",
    "思念\n",
    "靈魂\n",
    "停止'''\n"
   ]
  },
  {
   "cell_type": "code",
   "execution_count": 5,
   "metadata": {},
   "outputs": [
    {
     "data": {
      "text/plain": [
       "'\\n我\\n我的\\n妳\\n妳的\\n心\\n溫柔\\n日子\\n雨\\n風\\n天空\\n雲\\n等待\\n哭泣\\n戀愛\\n相遇\\n分離\\n忘記\\n心醉\\n驀然\\n吹過\\n思念\\n靈魂\\n停止'"
      ]
     },
     "execution_count": 5,
     "metadata": {},
     "output_type": "execute_result"
    }
   ],
   "source": [
    "words"
   ]
  },
  {
   "cell_type": "code",
   "execution_count": 6,
   "metadata": {},
   "outputs": [],
   "source": [
    "phrase=words.split('\\n')"
   ]
  },
  {
   "cell_type": "code",
   "execution_count": 7,
   "metadata": {},
   "outputs": [],
   "source": [
    "from numpy.random import choice"
   ]
  },
  {
   "cell_type": "code",
   "execution_count": 8,
   "metadata": {},
   "outputs": [
    {
     "data": {
      "text/plain": [
       "array(['雨', '心', '相遇', '妳', '吹過'], dtype='<U2')"
      ]
     },
     "execution_count": 8,
     "metadata": {},
     "output_type": "execute_result"
    }
   ],
   "source": [
    "choice(phrase,5)"
   ]
  },
  {
   "cell_type": "code",
   "execution_count": 9,
   "metadata": {},
   "outputs": [
    {
     "name": "stdout",
     "output_type": "stream",
     "text": [
      "*\n",
      "*\n",
      "*\n"
     ]
    }
   ],
   "source": [
    "l= randint(3,6)\n",
    "\n",
    "for i in range(l):\n",
    "    print(\"*\")"
   ]
  },
  {
   "cell_type": "code",
   "execution_count": 10,
   "metadata": {},
   "outputs": [],
   "source": [
    "ll=randint(5,8)\n",
    "\n",
    "egg= choice (phrase,ll)"
   ]
  },
  {
   "cell_type": "code",
   "execution_count": 11,
   "metadata": {},
   "outputs": [
    {
     "data": {
      "text/plain": [
       "array(['風', '戀愛', '心醉', '心醉', '雨', ''], dtype='<U2')"
      ]
     },
     "execution_count": 11,
     "metadata": {},
     "output_type": "execute_result"
    }
   ],
   "source": [
    "egg"
   ]
  },
  {
   "cell_type": "code",
   "execution_count": 25,
   "metadata": {},
   "outputs": [
    {
     "data": {
      "text/plain": [
       "'妳的 妳 日子 溫柔  風'"
      ]
     },
     "execution_count": 25,
     "metadata": {},
     "output_type": "execute_result"
    }
   ],
   "source": [
    "\" \".join (egg)"
   ]
  },
  {
   "cell_type": "code",
   "execution_count": 13,
   "metadata": {},
   "outputs": [
    {
     "name": "stdout",
     "output_type": "stream",
     "text": [
      "等待 哭泣 妳的 相遇 思念 戀愛 溫柔\n",
      "驀然 風 驀然 驀然 天空 雲 忘記\n",
      "忘記  分離  心 停止\n",
      "哭泣 戀愛 日子 靈魂 驀然 心 戀愛\n",
      "我 日子 吹過 妳的 心 思念 雲\n"
     ]
    }
   ],
   "source": [
    "n=randint(3,6)\n",
    "\n",
    "for i in range(n):\n",
    "    k=randint(5,8)\n",
    "    egg=choice(phrase,k)\n",
    "    ham=' '.join(egg)\n",
    "    print(ham)"
   ]
  },
  {
   "cell_type": "code",
   "execution_count": 14,
   "metadata": {},
   "outputs": [],
   "source": [
    "#2 7 4 6 13"
   ]
  },
  {
   "cell_type": "code",
   "execution_count": 15,
   "metadata": {},
   "outputs": [
    {
     "name": "stdout",
     "output_type": "stream",
     "text": [
      "The following commands were written to file `poem.py`:\n",
      "from numpy.random import randint\n",
      "from numpy.random import choice\n",
      "words='''\n",
      "我\n",
      "我的\n",
      "妳\n",
      "妳的\n",
      "心\n",
      "溫柔\n",
      "日子\n",
      "雨\n",
      "風\n",
      "天空\n",
      "雲\n",
      "等待\n",
      "哭泣\n",
      "戀愛\n",
      "相遇\n",
      "分離\n",
      "忘記\n",
      "心醉\n",
      "驀然\n",
      "吹過\n",
      "思念\n",
      "靈魂\n",
      "停止'''\n",
      "phrase=words.split('\\n')\n",
      "n=randint(3,6)\n",
      "\n",
      "for i in range(n):\n",
      "    k=randint(5,8)\n",
      "    egg=choice(phrase,k)\n",
      "    ham=' '.join(egg)\n",
      "    print(ham)\n"
     ]
    }
   ],
   "source": [
    "%save \"poem.py\"2 7 4 6 13"
   ]
  },
  {
   "cell_type": "code",
   "execution_count": null,
   "metadata": {},
   "outputs": [],
   "source": []
  }
 ],
 "metadata": {
  "kernelspec": {
   "display_name": "Python 3",
   "language": "python",
   "name": "python3"
  },
  "language_info": {
   "codemirror_mode": {
    "name": "ipython",
    "version": 3
   },
   "file_extension": ".py",
   "mimetype": "text/x-python",
   "name": "python",
   "nbconvert_exporter": "python",
   "pygments_lexer": "ipython3",
   "version": "3.7.3"
  }
 },
 "nbformat": 4,
 "nbformat_minor": 2
}
